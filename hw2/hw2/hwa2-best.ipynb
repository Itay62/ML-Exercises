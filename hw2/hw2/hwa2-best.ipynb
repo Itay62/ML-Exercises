{
 "cells": [
  {
   "cell_type": "markdown",
   "metadata": {
    "nbgrader": {
     "grade": false,
     "grade_id": "cell-6bd0516e7cb654f5",
     "locked": true,
     "schema_version": 1,
     "solution": false
    }
   },
   "source": [
    "# Exercise 2: Decision Trees\n",
    "\n",
    "In this assignment you will implement a Decision Tree algorithm as learned in class.\n",
    "\n",
    "## Read the following instructions carefully:\n",
    "\n",
    "1. This jupyter notebook contains all the step by step instructions needed for this exercise.\n",
    "1. Submission includes this notebook only with the exercise number and your ID as the filename. For example: `hw2_123456789_987654321.ipynb` if you submitted in pairs and `hw2_123456789.ipynb` if you submitted the exercise alone.\n",
    "1. Write **efficient vectorized** code whenever possible. Some calculations in this exercise take several minutes when implemented efficiently, and might take much longer otherwise. Unnecessary loops will result in point deduction.\n",
    "1. You are responsible for the correctness of your code and should add as many tests as you see fit. Tests will not be graded nor checked.\n",
    "1. Write your functions in this notebook only. **Do not create Python modules and import them**.\n",
    "1. You are allowed to use functions and methods from the [Python Standard Library](https://docs.python.org/3/library/) and [numpy](https://www.numpy.org/devdocs/reference/) only. **Do not import anything else.**\n",
    "1. Your code must run without errors. Make sure your `numpy` version is at least 1.15.4 and that you are using at least python 3.6. Changes of the configuration we provided are at your own risk. Any code that cannot run will not be graded.\n",
    "1. Write your own code. Cheating will not be tolerated.\n",
    "1. Answers to qualitative questions should be written in **markdown** cells (with $\\LaTeX$ support). Answers that will be written in commented code blocks will not be checked.\n",
    "\n",
    "## In this exercise you will perform the following:\n",
    "1. Practice OOP in python.\n",
    "2. Implement two impurity measures: Gini and Entropy.\n",
    "3. Construct a decision tree algorithm.\n",
    "4. Prune the tree to achieve better results.\n",
    "5. Visualize your results."
   ]
  },
  {
   "cell_type": "markdown",
   "metadata": {},
   "source": [
    "# I have read and understood the instructions: *** YOUR ID HERE ***"
   ]
  },
  {
   "cell_type": "code",
   "execution_count": 230,
   "metadata": {
    "nbgrader": {
     "grade": false,
     "grade_id": "cell-ed9fe7b1026e33cb",
     "locked": true,
     "schema_version": 1,
     "solution": false
    }
   },
   "outputs": [],
   "source": [
    "import numpy as np\n",
    "import pandas as pd\n",
    "import matplotlib.pyplot as plt\n",
    "\n",
    "# make matplotlib figures appear inline in the notebook\n",
    "%matplotlib inline\n",
    "plt.rcParams['figure.figsize'] = (10.0, 8.0) # set default size of plots\n",
    "plt.rcParams['image.interpolation'] = 'nearest'\n",
    "plt.rcParams['image.cmap'] = 'gray'\n",
    "\n",
    "# Ignore warnings\n",
    "import warnings\n",
    "warnings.filterwarnings('ignore')"
   ]
  },
  {
   "cell_type": "markdown",
   "metadata": {
    "nbgrader": {
     "grade": false,
     "grade_id": "cell-c6ac605270c2b091",
     "locked": true,
     "schema_version": 1,
     "solution": false
    }
   },
   "source": [
    "## Warmup - OOP in python\n",
    "\n",
    "Our desicion tree will be implemented using a dedicated python class. Python classes are very similar to classes in Java.\n",
    "\n",
    "\n",
    "You can use the following [site](https://jeffknupp.com/blog/2014/06/18/improve-your-python-python-classes-and-object-oriented-programming/) to learn about classes in python."
   ]
  },
  {
   "cell_type": "code",
   "execution_count": 231,
   "metadata": {},
   "outputs": [],
   "source": [
    "class Node(object):\n",
    "    def __init__(self, data):\n",
    "        self.data = data\n",
    "        self.children = []\n",
    "\n",
    "    def add_child(self, node):\n",
    "        self.children.append(node)"
   ]
  },
  {
   "cell_type": "code",
   "execution_count": 232,
   "metadata": {},
   "outputs": [
    {
     "data": {
      "text/plain": [
       "[<__main__.Node at 0x26d8e21caf0>, <__main__.Node at 0x26d8e21c550>]"
      ]
     },
     "execution_count": 232,
     "metadata": {},
     "output_type": "execute_result"
    }
   ],
   "source": [
    "n = Node(5)\n",
    "p = Node(6)\n",
    "q = Node(7)\n",
    "n.add_child(p)\n",
    "n.add_child(q)\n",
    "n.children"
   ]
  },
  {
   "cell_type": "markdown",
   "metadata": {
    "nbgrader": {
     "grade": false,
     "grade_id": "cell-2f1ceb251c649b62",
     "locked": true,
     "schema_version": 1,
     "solution": false
    }
   },
   "source": [
    "## Data preprocessing\n",
    "\n",
    "For the following exercise, we will use a dataset containing mushroom data `agaricus-lepiota.csv`. \n",
    "\n",
    "This data set includes descriptions of hypothetical samples corresponding to 23 species of gilled mushrooms in the Agaricus and Lepiota Family. Each species is identified as definitely edible, definitely poisonous, or of unknown edibility and not recommended. This latter class was combined with the poisonous\n",
    "one (=there are only two classes **edible** and **poisonous**). \n",
    "    \n",
    "The dataset contains 8124 observations with 22 features:\n",
    "1. cap-shape: bell=b,conical=c,convex=x,flat=f,knobbed=k,sunken=s\n",
    "2. cap-surface: fibrous=f,grooves=g,scaly=y,smooth=s\n",
    "3. cap-color: brown=n,buff=b,cinnamon=c,gray=g,green=r,pink=p,purple=u,red=e,white=w,yellow=y\n",
    "4. bruises: bruises=t,no=f\n",
    "5. odor: almond=a,anise=l,creosote=c,fishy=y,foul=f, musty=m,none=n,pungent=p,spicy=s\n",
    "6. gill-attachment: attached=a,descending=d,free=f,notched=n\n",
    "7. gill-spacing: close=c,crowded=w,distant=d\n",
    "8. gill-size: broad=b,narrow=n\n",
    "9. gill-color: black=k,brown=n,buff=b,chocolate=h,gray=g,green=r,orange=o,pink=p,purple=u,red=e,white=w,yellow=y\n",
    "10. stalk-shape: enlarging=e,tapering=t\n",
    "11. stalk-root: bulbous=b,club=c,cup=u,equal=e,rhizomorphs=z,rooted=r\n",
    "12. stalk-surface-above-ring: fibrous=f,scaly=y,silky=k,smooth=s\n",
    "13. stalk-surface-below-ring: fibrous=f,scaly=y,silky=k,smooth=s\n",
    "14. stalk-color-above-ring: brown=n,buff=b,cinnamon=c,gray=g,orange=o,pink=p,red=e,white=w,yellow=y\n",
    "15. stalk-color-below-ring: brown=n,buff=b,cinnamon=c,gray=g,orange=o,pink=p,red=e,white=w,yellow=y\n",
    "16. veil-type: partial=p,universal=u\n",
    "17. veil-color: brown=n,orange=o,white=w,yellow=y\n",
    "18. ring-number: none=n,one=o,two=t\n",
    "19. ring-type: cobwebby=c,evanescent=e,flaring=f,large=l,none=n,pendant=p,sheathing=s,zone=z\n",
    "20. spore-print-color: black=k,brown=n,buff=b,chocolate=h,green=r,orange=o,purple=u,white=w,yellow=y\n",
    "21. population: abundant=a,clustered=c,numerous=n,scattered=s,several=v,solitary=y\n",
    "22. habitat: grasses=g,leaves=l,meadows=m,paths=p,urban=u,waste=w,woods=d\n",
    "\n",
    "First, we will read and explore the data using pandas and the `.read_csv` method. Pandas is an open source library providing high-performance, easy-to-use data structures and data analysis tools for the Python programming language."
   ]
  },
  {
   "cell_type": "code",
   "execution_count": 233,
   "metadata": {
    "nbgrader": {
     "grade": false,
     "grade_id": "cell-d79cb4542926ad3f",
     "locked": true,
     "schema_version": 1,
     "solution": false
    }
   },
   "outputs": [],
   "source": [
    "# load dataset\n",
    "data = pd.read_csv('agaricus-lepiota.csv')"
   ]
  },
  {
   "cell_type": "markdown",
   "metadata": {},
   "source": [
    "One of the advantages of the Decision Tree algorithm is that almost no preprocessing is required. However, finding missing values is always required."
   ]
  },
  {
   "cell_type": "code",
   "execution_count": 234,
   "metadata": {},
   "outputs": [
    {
     "data": {
      "text/plain": [
       "pandas.core.frame.DataFrame"
      ]
     },
     "execution_count": 234,
     "metadata": {},
     "output_type": "execute_result"
    }
   ],
   "source": [
    "#############################################################################\n",
    "# TODO: Find columns with missing values and remove them from the data.#\n",
    "#############################################################################\n",
    "data = data.dropna(axis=1)\n",
    "type(data)\n",
    "#############################################################################\n",
    "#                             END OF YOUR CODE                              #\n",
    "#############################################################################"
   ]
  },
  {
   "cell_type": "markdown",
   "metadata": {},
   "source": [
    "We will split the dataset to `Training` and `Testing` datasets."
   ]
  },
  {
   "cell_type": "code",
   "execution_count": 235,
   "metadata": {},
   "outputs": [
    {
     "name": "stdout",
     "output_type": "stream",
     "text": [
      "Training dataset shape:  (6093, 22)\n",
      "Testing dataset shape:  (2031, 22)\n"
     ]
    },
    {
     "data": {
      "text/plain": [
       "pandas.core.series.Series"
      ]
     },
     "execution_count": 235,
     "metadata": {},
     "output_type": "execute_result"
    }
   ],
   "source": [
    "from sklearn.model_selection import train_test_split\n",
    "# Making sure the last column will hold the labels\n",
    "X, y = data.drop('class', axis=1), data['class']\n",
    "X = np.column_stack([X,y])\n",
    "# split dataset using random_state to get the same split each time\n",
    "X_train, X_test = train_test_split(X, random_state=99)\n",
    "\n",
    "print(\"Training dataset shape: \", X_train.shape)\n",
    "print(\"Testing dataset shape: \", X_test.shape)\n",
    "type(X)\n",
    "type(y)"
   ]
  },
  {
   "cell_type": "code",
   "execution_count": 236,
   "metadata": {},
   "outputs": [
    {
     "data": {
      "text/plain": [
       "(8124,)"
      ]
     },
     "execution_count": 236,
     "metadata": {},
     "output_type": "execute_result"
    }
   ],
   "source": [
    "y.shape"
   ]
  },
  {
   "cell_type": "markdown",
   "metadata": {
    "nbgrader": {
     "grade": false,
     "grade_id": "cell-fd7b0191f3f1e897",
     "locked": true,
     "schema_version": 1,
     "solution": false
    }
   },
   "source": [
    "## Impurity Measures\n",
    "\n",
    "Impurity is a measure of how often a randomly chosen element from the set would be incorrectly labeled if it was randomly labeled according to the distribution of labels in the subset. Implement the functions `calc_gini` and `calc_entropy`. You are encouraged to test your implementation (10 points)."
   ]
  },
  {
   "cell_type": "code",
   "execution_count": 237,
   "metadata": {},
   "outputs": [],
   "source": [
    "def calc_gini(data):\n",
    "    \"\"\"\n",
    "    Calculate gini impurity measure of a dataset.\n",
    " \n",
    "    Input:\n",
    "    - data: any dataset where the last column holds the labels.\n",
    " \n",
    "    Returns the gini impurity.    \n",
    "    \"\"\"\n",
    "    gini = 0.0\n",
    "    ###########################################################################\n",
    "    # TODO: Implement the function.                                           #\n",
    "    ###########################################################################\n",
    "    S = len(data[:,-1]) #length of last labels cloumn\n",
    "    labels = data[:,-1] \n",
    "    count_class= np.unique(labels, return_counts=True) #count uniques values for each labels\n",
    "    p = np.power((count_class[1]/S),2) \n",
    "    count = np.sum(p)#gini sigma \n",
    "    gini = 1 - count\n",
    "    ###########################################################################\n",
    "    #                             END OF YOUR CODE                            #\n",
    "    ###########################################################################\n",
    "    return gini\n"
   ]
  },
  {
   "cell_type": "code",
   "execution_count": 238,
   "metadata": {},
   "outputs": [
    {
     "name": "stdout",
     "output_type": "stream",
     "text": [
      "<class 'numpy.ndarray'>\n",
      "0.4995636322379775\n"
     ]
    }
   ],
   "source": [
    "#test#####\n",
    "print(type(X))\n",
    "gini = calc_gini(X)\n",
    "print(gini)"
   ]
  },
  {
   "cell_type": "code",
   "execution_count": 239,
   "metadata": {},
   "outputs": [],
   "source": [
    "def calc_entropy(data):\n",
    "    \"\"\"\n",
    "    Calculate the entropy of a dataset.\n",
    "\n",
    "    Input:\n",
    "    - data: any dataset where the last column holds the labels.\n",
    "\n",
    "    Returns the entropy of the dataset.    \n",
    "    \"\"\"\n",
    "    entropy = 0.0\n",
    "    ###########################################################################\n",
    "    # TODO: Implement the function.                                           #\n",
    "    ###########################################################################\n",
    "    S = len(data[:,-1]) #length of last labels coloumn\n",
    "    labels = data[:,-1] \n",
    "    count_class = np.unique(labels, return_counts=True) #count uniques values for each label\n",
    "    p = np.true_divide(count_class[1],S) #|si|/|s|\n",
    "    p_log = np.log2(p)#log(|si|/|s|)\n",
    "    p_milt_p_log = np.multiply(-p,p_log)#-|si|/|s|(log(|si|/|s|))\n",
    "    count = np.sum(p_milt_p_log)#sigma entropy\n",
    "    entropy = count\n",
    "    ###########################################################################\n",
    "    #                             END OF YOUR CODE                            #\n",
    "    ###########################################################################\n",
    "    return entropy\n"
   ]
  },
  {
   "cell_type": "code",
   "execution_count": 240,
   "metadata": {},
   "outputs": [
    {
     "name": "stdout",
     "output_type": "stream",
     "text": [
      "<class 'numpy.ndarray'>\n",
      "0.9993703627906085\n"
     ]
    }
   ],
   "source": [
    "\n",
    "#test#####\n",
    "print(type(X))\n",
    "gini = calc_entropy(X)\n",
    "print(gini)"
   ]
  },
  {
   "cell_type": "code",
   "execution_count": 241,
   "metadata": {
    "scrolled": true
   },
   "outputs": [
    {
     "data": {
      "text/plain": [
       "(0.4995636322379775, 0.9993703627906085)"
      ]
     },
     "execution_count": 241,
     "metadata": {},
     "output_type": "execute_result"
    }
   ],
   "source": [
    "##### Your Tests Here #####\n",
    "calc_gini(X), calc_entropy(X)"
   ]
  },
  {
   "cell_type": "markdown",
   "metadata": {},
   "source": [
    "## Goodness of Split\n",
    "\n",
    "Given a feature the Goodnees of Split measures the reduction in the impurity if we split the data according to the feature.\n",
    "$$\n",
    "\\Delta\\varphi(S, A) = \\varphi(S) - \\sum_{v\\in Values(A)} \\frac{|S_v|}{|S|}\\varphi(S_v)\n",
    "$$\n",
    "\n",
    "In our implementation the goodness_of_split function will return either the Goodness of Split or the Gain Ratio as learned in class. You'll control the return value with the `gain_ratio` parameter. If this parameter will set to False (the default value) it will return the regular Goodness of Split. If it will set to True it will return the Gain Ratio.\n",
    "$$\n",
    "GainRatio(S,A)=\\frac{InformationGain(S,A)}{SplitInformation(S,A)}\n",
    "$$\n",
    "Where:\n",
    "$$\n",
    "InformationGain(S,A)=Goodness\\ of\\ Split\\ calculated\\ with\\ Entropy\\ as\\ the\\ Impurity\\ function \\\\\n",
    "SplitInformation(S,A)=- \\sum_{a\\in A} \\frac{|S_a|}{|S|}\\log\\frac{|S_a|}{|S|}\n",
    "$$\n",
    "NOTE: you can add more parameters to the function and you can also add more returning variables (The given parameters and the given returning variable should not be touch). (10 Points)"
   ]
  },
  {
   "cell_type": "code",
   "execution_count": 242,
   "metadata": {},
   "outputs": [],
   "source": [
    "def goodness_of_split(data, feature, impurity_func, gain_ratio):\n",
    "    \"\"\"\n",
    "    Calculate the goodness of split of a dataset given a feature and impurity function.\n",
    "\n",
    "    Input:\n",
    "    - data: any dataset where the last column holds the labels.\n",
    "    - feature: the feature index.\n",
    "    - impurity func: a function that calculates the impurity.\n",
    "    - gain_ratio: goodness of split or gain ratio flag.\n",
    "\n",
    "    Returns the goodness of split (or the Gain Ration).  \n",
    "    \"\"\"\n",
    "    ###########################################################################\n",
    "    # TODO: Implement the function.                                           #\n",
    "    ###########################################################################\n",
    "    data_array = data[:,[feature,data.shape[1]-1]]#new array - first column - feature, second column - labels\n",
    "    \n",
    "    #if gain_ration flag is true - use entropy function\n",
    "    if gain_ratio == False:\n",
    "        inpurity_before = impurity_func(data) #phi of S\n",
    "    else:\n",
    "         inpurity_before = calc_entropy(data) #phi of S\n",
    "    value, count_value = np.unique(data_array[:,0], return_counts=True) #Value - array of values for this feature.  count_value - count number of occurences for each value\n",
    "    sigma = 0 #sigma (|Sv|\\|S|)phi(Sv) \n",
    "    num_of_instances = len(data[:,-1])\n",
    "    i = 0 #index in count_value\n",
    "    \n",
    "    #for each value of this feature \n",
    "    for l in value:\n",
    "        \n",
    "        data_l = data_array[data_array[:,0] == l] ##all instances with l value\n",
    "        \n",
    "        #if gain_ration flag is true - use entropy function\n",
    "        if gain_ratio == False:\n",
    "            inpurity_after_split = impurity_func(data_l)\n",
    "        else:\n",
    "             inpurity_after_split = calc_entropy(data_l)\n",
    "                \n",
    "        R = (count_value[i])/num_of_instances #number of occurence / number of instances\n",
    "        i = i+1 \n",
    "        sigma +=  (inpurity_after_split*R)\n",
    "        goodness = inpurity_before - sigma \n",
    "    \n",
    "    \n",
    "    if gain_ratio == True:\n",
    "        informationGain = goodness\n",
    "        p = np.true_divide(count_value,num_of_instances)\n",
    "        p_log = np.log2(p)\n",
    "        p_milt_p_log = np.multiply(p,p_log)\n",
    "        splitInformation = -np.sum(p_milt_p_log)\n",
    "        goodness = informationGain/ splitInformation\n",
    "                      \n",
    "    ###########################################################################\n",
    "    #                             END OF YOUR CODE                            #\n",
    "    ###########################################################################\n",
    "    return goodness \n"
   ]
  },
  {
   "cell_type": "code",
   "execution_count": 243,
   "metadata": {},
   "outputs": [
    {
     "name": "stdout",
     "output_type": "stream",
     "text": [
      "0.027475652034306575\n"
     ]
    }
   ],
   "source": [
    "####test#####\n",
    "goodness = goodness_of_split(X_train, 0, calc_entropy,False)\n",
    "print(goodness) "
   ]
  },
  {
   "cell_type": "markdown",
   "metadata": {},
   "source": [
    "## Building a Decision Tree\n",
    "\n",
    "Use a Python class to construct the decision tree. Your class should support the following functionality:\n",
    "\n",
    "1. Initiating a node for a decision tree. You will need to use several class methods and class attributes and you are free to use them as you see fit. We recommend that every node will hold the feature and value used for the split and its children.\n",
    "2. Your code should support both Gini and Entropy as impurity measures. \n",
    "3. The provided data includes categorical data. In this exercise, when splitting a node create the number of children needed according to the attribute unique values.\n",
    "\n",
    "Complete the class `DecisionNode`. The structure of this class is entirely up to you. \n",
    "\n",
    "Complete the function `build_tree`. This function should get the training dataset and the impurity as inputs, initiate a root for the decision tree and construct the tree according to the procedure you learned in class. (30 points)"
   ]
  },
  {
   "cell_type": "code",
   "execution_count": 244,
   "metadata": {},
   "outputs": [],
   "source": [
    "class DecisionNode:\n",
    "    \"\"\"\n",
    "    This class will hold everything you require to construct a decision tree.\n",
    "    The structure of this class is up to you. However, you need to support basic \n",
    "    functionality as described above. It is highly recommended that you \n",
    "    first read and understand the entire exercise before diving into this class.\n",
    "    \"\"\"\n",
    "    def __init__(self, feature,data,depth,features_to_check,value ):\n",
    "        self.feature = feature #Index of the feature returned by bestAttribute\n",
    "        self.children = {}     #Key = a value of that feature : Value = child node created for this value\n",
    "        self.data = data       #Data of the node\n",
    "        self.label = None      #None: not pure, e: edible, p: poisonous\n",
    "        self.depth = depth     #Depth of the node\n",
    "        self.features_to_check = features_to_check #Features to test\n",
    "        self.value = value     #The value for which the Node was created\n",
    "    \n",
    "    #Add the node as a new children \n",
    "    def add_child(self, value, node):\n",
    "        self.children[value] = node # value : node\n",
    "        \n",
    "    #Check if the node is pure       \n",
    "    def pure(self):\n",
    "        labels = self.data[:,-1]\n",
    "        return np.max(labels) == np.min(labels)\n",
    "    \n",
    "    #Find the best attribute to split by\n",
    "    def bestAttribute(self,impurity_func,gain_ratio):\n",
    "        goodness_dic={}\n",
    "        for a in self.features_to_check:\n",
    "            goodness_dic[a]=goodness_of_split(self.data, a, impurity_func, gain_ratio)\n",
    "        return max(goodness_dic, key=goodness_dic.get)\n",
    "            "
   ]
  },
  {
   "cell_type": "code",
   "execution_count": 245,
   "metadata": {},
   "outputs": [],
   "source": [
    "def build_tree(data, impurity, gain_ratio =False, min_samples_split=1, max_depth=1000):\n",
    "    \"\"\"\n",
    "    Build a tree using the given impurity measure and training dataset. \n",
    "    You are required to fully grow the tree until all leaves are pure. \n",
    "\n",
    "    Input:\n",
    "    - data: the training dataset.\n",
    "    - impurity: the chosen impurity measure. Notice that you can send a function\n",
    "                as an argument in python.\n",
    "    - gain_ratio: goodness of split or gain ratio flag\n",
    "    - min_samples_split: the minimum number of samples required to split an internal node\n",
    "    - max_depth: the allowable depth of the tree\n",
    "\n",
    "    Output: the root node of the tree.\n",
    "    \"\"\"\n",
    "    root = DecisionNode(None,data,0,list(range(0, len(data[0]) - 1)),0) #Create the root of the tree\n",
    "    root.feature = root.bestAttribute(impurity,gain_ratio) #Check for the best atribute to split by \n",
    "    q=[] #Initialize an empty queue\n",
    "    q.append(root) #Insert the root to the queue\n",
    "    \n",
    "    #While the queue is not empty \n",
    "    while(q):\n",
    "        node = q.pop(0)\n",
    "        \n",
    "        #Create childs only if the depth of the node is smaller then max_depth\n",
    "        if node.depth < max_depth:\n",
    "            \n",
    "            #If training examples in n perfectly classified-> Then continue to next node\n",
    "            if node.pure():\n",
    "                labels = node.data[:,-1]\n",
    "                value = np.unique(labels, return_counts=False)\n",
    "                node.label = value[0][0]\n",
    "            else:\n",
    "                best_a = node.bestAttribute(impurity,gain_ratio) #Check for the best atribute to split by\n",
    "                child_features_to_check = node.features_to_check.copy() \n",
    "                child_features_to_check.remove(best_a)\n",
    "                values_best_a = np.unique(node.data[:,best_a], return_counts=True) #All values of the best atribute \n",
    "                \n",
    "                #For each value create a child\n",
    "                for l in values_best_a[0]:\n",
    "                    data_l = node.data[node.data[:,best_a] == l] #all instance with l value\n",
    "                    num_samples = len(data_l[:,-1]) #number of instances in with l value\n",
    "                    \n",
    "                    if num_samples > min_samples_split:\n",
    "                        depth = node.depth + 1\n",
    "                        c = DecisionNode(best_a,data_l,depth,child_features_to_check,l) ##create new node for the child\n",
    "                        node.add_child(l, c)\n",
    "                        q.append(c) ##append to the queue\n",
    "                        \n",
    "                    #if no samples for this value do not create a child \n",
    "                    elif num_samples == 0:\n",
    "                        continue\n",
    "                    #if num_samples is smaller then min_samples_split - Add a child and do not add to the queue    \n",
    "                    else:\n",
    "                        depth = node.depth + 1\n",
    "                        c = DecisionNode(best_a,data_l,depth,child_features_to_check,l) ##create new node for the child\n",
    "                        labels = c.data[:, -1]\n",
    "                        value, count = np.unique(labels, return_counts=True)\n",
    "                        ind = np.argmax(count) \n",
    "                        c.label = value[ind] #Set node label to most label occurences \n",
    "                        node.add_child(l, c)\n",
    "    ###########################################################################\n",
    "    #                             END OF YOUR CODE                            #\n",
    "    ###########################################################################\n",
    "    return root"
   ]
  },
  {
   "cell_type": "code",
   "execution_count": 246,
   "metadata": {
    "scrolled": false
   },
   "outputs": [],
   "source": [
    "# python supports passing a function as an argument to another function.\n",
    "tree_gini = build_tree(data=X_train, impurity=calc_gini) # gini and goodness of split\n",
    "tree_entropy = build_tree(data=X_train, impurity=calc_entropy) # entropy and goodness of split\n",
    "tree_entropy_gain_ratio = build_tree(data=X_train, impurity=calc_entropy, gain_ratio=True) # entropy and gain ratio"
   ]
  },
  {
   "cell_type": "markdown",
   "metadata": {},
   "source": [
    "## Tree evaluation\n",
    "\n",
    "Complete the functions `predict` and `calc_accuracy`. (10 points)"
   ]
  },
  {
   "cell_type": "code",
   "execution_count": 247,
   "metadata": {},
   "outputs": [],
   "source": [
    "def predict(node, instance):\n",
    "    \"\"\"\n",
    "    Predict a given instance using the decision tree\n",
    " \n",
    "    Input:\n",
    "    - root: the root of the decision tree.\n",
    "    - instance: an row vector from the dataset. Note that the last element \n",
    "                of this vector is the label of the instance.\n",
    " \n",
    "    Output: the prediction of the instance.\n",
    "    \"\"\"\n",
    "    instance_copy = instance.copy()\n",
    "    pred = None\n",
    " \n",
    "    #while node is not a leaf\n",
    "    while(list(node.children.values()) != []):\n",
    "       \n",
    "        feature = list(node.children.values())[0].feature # Index feature to check    \n",
    "        instance_value = instance_copy[feature] # Value of the instance according to feature\n",
    "        nextNode = node.children.get(instance_value) #The child value\n",
    "        \n",
    "        #If child does not exsit -  Set node label as the most occur label and exit the loop \n",
    "        if nextNode == None:\n",
    "            labels = node.data[:, -1]\n",
    "            value, count = np.unique(labels, return_counts=True)\n",
    "            ind = np.argmax(count)\n",
    "            node.label = value[ind]\n",
    "            break\n",
    "        #Else go to child node\n",
    "        else:\n",
    "            node = nextNode\n",
    "    \n",
    "    #If the leaf has a lable\n",
    "    if (node.label != None):        \n",
    "        pred = node.label\n",
    "        \n",
    "    #If the leaf has no lable - set node label as the most occur label\n",
    "    else:\n",
    "        labels = node.data[:, -1]\n",
    "        value, count = np.unique(labels, return_counts=True)\n",
    "        ind = np.argmax(count)\n",
    "        node.label = value[ind]\n",
    "        pred = node.label\n",
    "    ###########################################################################\n",
    "    #                             END OF YOUR CODE                            #\n",
    "    ###########################################################################\n",
    "    return pred\n",
    "\n"
   ]
  },
  {
   "cell_type": "code",
   "execution_count": 248,
   "metadata": {},
   "outputs": [
    {
     "name": "stdout",
     "output_type": "stream",
     "text": [
      "p\n"
     ]
    }
   ],
   "source": [
    "#test\n",
    "instance = X_train[6]\n",
    "print(predict(tree_gini,instance))"
   ]
  },
  {
   "cell_type": "code",
   "execution_count": 249,
   "metadata": {},
   "outputs": [],
   "source": [
    "def calc_accuracy(node, dataset):\n",
    "    \"\"\"\n",
    "    Predict a given dataset using the decision tree\n",
    " \n",
    "    Input:\n",
    "    - node: a node in the decision tree.\n",
    "    - dataset: the dataset on which the accuracy is evaluated\n",
    " \n",
    "    Output: the accuracy of the decision tree on the given dataset (%).\n",
    "    \"\"\"\n",
    "    accuracy = 0\n",
    "    rightCount = 0\n",
    "    ###########################################################################\n",
    "    # TODO: Implement the function.                                           #\n",
    "    ###########################################################################\n",
    "    #If dataset has one instance\n",
    "    if dataset.ndim == 1: \n",
    "        pred = predict(node, dataset)\n",
    "        #Check the prediction\n",
    "        if pred == dataset[-1]:\n",
    "            rightCount = rightCount + 1\n",
    "        accuracy = rightCount     \n",
    "    else:    \n",
    "        for instance in dataset:\n",
    "            pred = predict(node, instance)\n",
    "            #Check the prediction\n",
    "            if pred == instance[-1]:\n",
    "                rightCount = rightCount + 1\n",
    "        accuracy = rightCount / len(dataset)    \n",
    "    ###########################################################################\n",
    "    #                             END OF YOUR CODE                            #\n",
    "    ###########################################################################\n",
    "    return accuracy * 100\n",
    "\n",
    "\n",
    "\n"
   ]
  },
  {
   "cell_type": "code",
   "execution_count": 250,
   "metadata": {},
   "outputs": [
    {
     "name": "stdout",
     "output_type": "stream",
     "text": [
      "78.48350566223536\n"
     ]
    }
   ],
   "source": [
    "##teset\n",
    "dataset = X_test\n",
    "acc = calc_accuracy(tree_entropy_gain_ratio, dataset)\n",
    "print(acc)"
   ]
  },
  {
   "cell_type": "markdown",
   "metadata": {},
   "source": [
    "After building the three trees using the training set, you should calculate the accuracy on the test set. For each tree print the training and test accuracy. Select the tree that gave you the best test accuracy. For the rest of the exercise, use that tree (when you asked to build another tree use the same impurity function and same gain_ratio flag). "
   ]
  },
  {
   "cell_type": "code",
   "execution_count": 251,
   "metadata": {},
   "outputs": [
    {
     "name": "stdout",
     "output_type": "stream",
     "text": [
      "tree_gini accuracy for traing set is: 100.0%\n",
      "tree_gini accuracy for test set is: 77.30182176267849%\n",
      "tree_entropy accuracy for traing set is: 100.0%\n",
      "tree_entropy accuracy for test set is: 77.15411127523387%\n",
      "tree_entropy_gain_ratio accuracy for traing set is: 100.0% \n",
      "tree_entropy_gain_ratio accuracy for test set is: 78.48350566223536% \n"
     ]
    }
   ],
   "source": [
    "acc_tree_gini_train = calc_accuracy(tree_gini, X_train)\n",
    "print(f'tree_gini accuracy for traing set is: {acc_tree_gini_train }%')\n",
    "\n",
    "acc_tree_gini_test = calc_accuracy(tree_gini, X_test)\n",
    "print(f'tree_gini accuracy for test set is: {acc_tree_gini_test }%')\n",
    "\n",
    "acc_tree_entropy_train = calc_accuracy(tree_entropy, X_train)\n",
    "print(f'tree_entropy accuracy for traing set is: {acc_tree_entropy_train }%')\n",
    "\n",
    "acc_tree_entropy_test = calc_accuracy(tree_entropy, X_test)\n",
    "print(f'tree_entropy accuracy for test set is: {acc_tree_entropy_test }%')\n",
    "\n",
    "acc_tree_entropy_gain_ratio_train = calc_accuracy(tree_entropy_gain_ratio, X_train)\n",
    "print(f'tree_entropy_gain_ratio accuracy for traing set is: {acc_tree_entropy_train }% ')\n",
    "\n",
    "acc_tree_entropy_gain_ratio_test = calc_accuracy(tree_entropy_gain_ratio, X_test)\n",
    "print(f'tree_entropy_gain_ratio accuracy for test set is: {acc_tree_entropy_gain_ratio_test }% ')\n"
   ]
  },
  {
   "cell_type": "markdown",
   "metadata": {},
   "source": [
    "## Depth pruning\n",
    "\n",
    "(15 points)\n",
    "\n",
    "Consider the following max_depth values: [1, 2, 3, 4, 5, 6, 7, 8]. For each value, construct a tree and prune it according to the max_depth value = don't let the tree to grow beyond this depth. Next, calculate the training and testing accuracy.<br>\n",
    "On a single plot, draw the training and testing accuracy as a function of the max_depth. Mark the best result on the graph with red circle."
   ]
  },
  {
   "cell_type": "code",
   "execution_count": 252,
   "metadata": {},
   "outputs": [
    {
     "data": {
      "image/png": "[encoded data removed]",
      "text/plain": [
       "<Figure size 720x576 with 1 Axes>"
      ]
     },
     "metadata": {
      "needs_background": "light"
     },
     "output_type": "display_data"
    }
   ],
   "source": [
    "\n",
    "max_depth=[1,2,3,4,5,6,7,8]\n",
    "acc_train_arr = [] #accuracy for training data\n",
    "acc_test_arr = [] #accuracy for test data\n",
    "\n",
    "#pruning the tree according to the max_depth\n",
    "for i in max_depth:\n",
    "    tree_i= build_tree(data=X_train, impurity=calc_entropy, gain_ratio=True,max_depth=i) \n",
    "    acc_train =calc_accuracy(tree_i, X_train)\n",
    "    acc_train_arr.append(acc_train)\n",
    "    acc_test =calc_accuracy(tree_i, X_test)\n",
    "    acc_test_arr.append(acc_test)\n",
    "    \n",
    "#Create the plot\n",
    "max_depth_val = [max(acc_test_arr)]\n",
    "best_depth = [acc_test_arr.index(max(acc_test_arr)) + 1]\n",
    "\n",
    "plt.plot(max_depth, acc_test_arr, label = \"Test\")\n",
    "plt.plot(max_depth, acc_train_arr, label = \"Train\")\n",
    "plt.plot(best_depth, max_depth_val, label = \"Best result\", ls = \"\", marker = 'o', color = 'red')\n",
    "\n",
    "plt.xlabel(\"Max tree depth\")\n",
    "plt.ylabel(\"Accuracy(%)\")\n",
    "plt.title(\"The trainig and testing accuracy as a function of the tree depth\")\n",
    "\n",
    "plt.legend()\n",
    "plt.show()\n",
    "\n",
    "\n"
   ]
  },
  {
   "cell_type": "markdown",
   "metadata": {},
   "source": [
    "## Min Samples Split\n",
    "\n",
    "(15 points)\n",
    "\n",
    "Consider the following min_samples_split values: [1, 5, 10, 20, 50]. For each value, construct a tree and prune it according to the min_samples_split value = don't split a node if the number of sample in it is less or equal to the min_samples_split value. Next, calculate the training and testing accuracy.<br>\n",
    "On a single plot, draw the training and testing accuracy as a function of the min_samples_split. Mark the best result on the graph with red circle. (make sure that the x-axis ticks represent the values of min_samples_split)"
   ]
  },
  {
   "cell_type": "code",
   "execution_count": 253,
   "metadata": {},
   "outputs": [
    {
     "data": {
      "image/png": "[encoded data removed]",
      "text/plain": [
       "<Figure size 720x576 with 1 Axes>"
      ]
     },
     "metadata": {
      "needs_background": "light"
     },
     "output_type": "display_data"
    }
   ],
   "source": [
    "acc_train_arr = []  #accuracy for training data\n",
    "acc_test_arr = []  #accuracy for test data\n",
    "min_samples_split = [1, 5, 10, 20, 50] \n",
    "\n",
    "#pruning the tree according to min_samples_split\n",
    "for i in min_samples_split:\n",
    "    tree_i = build_tree(data=X_train, impurity=calc_entropy, gain_ratio=True,min_samples_split = i,max_depth=1000) \n",
    "    acc_train = calc_accuracy(tree_i, X_train)\n",
    "    acc_train_arr.append(acc_train)\n",
    "    acc_test = calc_accuracy(tree_i, X_test)\n",
    "    acc_test_arr.append(acc_test)\n",
    "    \n",
    "\n",
    "#Create the plot\n",
    "max_min_samples_split = [max(acc_test_arr)]\n",
    "index_of_max_split = [min_samples_split[acc_test_arr.index(max(acc_test_arr))]]\n",
    "\n",
    "plt.plot(min_samples_split, acc_test_arr, label = \"Test\")\n",
    "plt.plot(min_samples_split, acc_train_arr, label = \"Train\")\n",
    "plt.plot(index_of_max_split, max_min_samples_split, label = \"Best result\", ls = \"\", marker = 'o', color = 'red')\n",
    "\n",
    "plt.xlabel(\"Min samples to split\")\n",
    "plt.ylabel(\"Accuracy(%)\")\n",
    "plt.title(\"The trainig and testing accuracy as a function of the Min samples to split\")\n",
    "plt.legend()\n",
    "plt.show()"
   ]
  },
  {
   "cell_type": "markdown",
   "metadata": {},
   "source": [
    "Build the best 2 trees:\n",
    "1. tree_max_depth - the best tree according to max_depth pruning\n",
    "1. tree_min_samples_split - the best tree according to min_samples_split pruning"
   ]
  },
  {
   "cell_type": "code",
   "execution_count": 254,
   "metadata": {},
   "outputs": [],
   "source": [
    "best_depth_tree = build_tree(data=X_train, impurity=calc_entropy, gain_ratio=True,min_samples_split = 1,max_depth=4)\n",
    "best_min_sample_tree = build_tree(data=X_train, impurity=calc_entropy, gain_ratio=True,min_samples_split = 50,max_depth = 1000)"
   ]
  },
  {
   "cell_type": "markdown",
   "metadata": {},
   "source": [
    "## Number of Nodes\n",
    "\n",
    "(5 points)\n",
    "\n",
    "Complete the function counts_nodes and print the number of nodes in each tree and print the number of nodes of the two trees above"
   ]
  },
  {
   "cell_type": "code",
   "execution_count": 255,
   "metadata": {},
   "outputs": [],
   "source": [
    "def count_nodes_recursive(node):\n",
    "    if not node.children:\n",
    "        return 1\n",
    "    else:\n",
    "        count = 1\n",
    "        for child in node.children.values():\n",
    "            count += count_nodes_recursive(child)\n",
    "        return count"
   ]
  },
  {
   "cell_type": "code",
   "execution_count": 256,
   "metadata": {},
   "outputs": [
    {
     "name": "stdout",
     "output_type": "stream",
     "text": [
      "194\n",
      "350\n"
     ]
    }
   ],
   "source": [
    "def count_nodes(node):\n",
    "    \"\"\"\n",
    "    Count the number of node in a given tree\n",
    " \n",
    "    Input:\n",
    "    - node: a node in the decision tree.\n",
    " \n",
    "    Output: the number of node in the tree.\n",
    "    \"\"\"\n",
    "    ###########################################################################\n",
    "    # TODO: Implement the function.                                           #\n",
    "    ###########################################################################\n",
    "    \n",
    "    num_of_nodes = count_nodes_recursive(node)\n",
    "    \n",
    "    return num_of_nodes\n",
    "\n",
    "\n",
    "print(count_nodes(best_depth_tree))\n",
    "print(count_nodes(best_min_sample_tree))"
   ]
  },
  {
   "cell_type": "markdown",
   "metadata": {},
   "source": [
    "## Print the tree\n",
    "\n",
    "Complete the function `print_tree`. Your tree should be visualized clearly. You can use the following example as a reference:\n",
    "```\n",
    "[ROOT, feature=X0],\n",
    "  [X0=a, feature=X2]\n",
    "    [X2=c, leaf]: [{1.0: 10}]\n",
    "    [X2=d, leaf]: [{0.0: 10}]\n",
    "  [X0=y, feature=X5], \n",
    "    [X5=a, leaf]: [{1.0: 5}]\n",
    "    [X5=s, leaf]: [{0.0: 10}]\n",
    "  [X0=e, leaf]: [{0.0: 25, 1.0: 50}]\n",
    "```\n",
    "In each brackets:\n",
    "* The first argument is the parent feature with the value that led to current node\n",
    "* The second argument is the selected feature of the current node\n",
    "* If the current node is a leaf, you need to print also the labels and their counts\n",
    "\n",
    "(5 points)"
   ]
  },
  {
   "cell_type": "code",
   "execution_count": 257,
   "metadata": {},
   "outputs": [],
   "source": [
    "def print_tree_recursive(node, parent_feature):\n",
    "    \n",
    "    spaces = \"  \" * (node.depth + 1) \n",
    "    ## if node is a leaf\n",
    "    if not node.children:\n",
    "        labels = node.data[:, -1]\n",
    "        value, count = np.unique(labels, return_counts=True)\n",
    "        num_of_e = 0\n",
    "        num_of_p = 0\n",
    "        if 'e' in value:\n",
    "            index_of_e = np.where(value == 'e')\n",
    "            num_of_e = count[index_of_e]\n",
    "        if 'p' in value:\n",
    "            index_of_p = np.where(value == 'p')\n",
    "            num_of_p = count[index_of_p]\n",
    "        print(f\"{spaces}[X{node.feature} = {node.value}, leaf]: [e: {num_of_e}, p: {num_of_p}]\")\n",
    "        return\n",
    "    ## if node is a root\n",
    "    elif node.depth == 0:\n",
    "        print(f\"[{parent_feature}, feature = {node.feature}],\")\n",
    "        for child in node.children.values():\n",
    "            print_tree_recursive(child, node.feature)\n",
    "    ## if node has children                \n",
    "    else:\n",
    "        print(f\"{spaces}[X{parent_feature} = {node.value}, feature = {list(node.children.values())[0].feature}],\")\n",
    "        for child in node.children.values():\n",
    "            print_tree_recursive(child, node.feature)"
   ]
  },
  {
   "cell_type": "code",
   "execution_count": 258,
   "metadata": {},
   "outputs": [],
   "source": [
    "# you can change the function signeture\n",
    "def print_tree(node, parent_feature='ROOT'):\n",
    "    '''\n",
    "    prints the tree according to the example above\n",
    "\n",
    "    Input:\n",
    "    - node: a node in the decision tree\n",
    "\n",
    "    This function has no return value\n",
    "    '''\n",
    "    ###########################################################################\n",
    "    # TODO: Implement the function.                                           #\n",
    "    ###########################################################################\n",
    "    print_tree_recursive(node, parent_feature)\n",
    "    ###########################################################################\n",
    "    #                             END OF YOUR CODE                            #\n",
    "    ###########################################################################\n",
    "    \n"
   ]
  },
  {
   "cell_type": "markdown",
   "metadata": {},
   "source": [
    "print the tree with the best test accuracy and with less than 50 nodes (from the two pruning methods)"
   ]
  },
  {
   "cell_type": "code",
   "execution_count": 259,
   "metadata": {},
   "outputs": [
    {
     "name": "stdout",
     "output_type": "stream",
     "text": [
      "number of nodes in the tree is:28\n",
      "[ROOT, feature = 4],\n",
      "    [X4 = a, feature = 2],\n",
      "      [X2 = n, leaf]: [e: [33], p: [5]]\n",
      "      [X2 = w, leaf]: [e: [107], p: [7]]\n",
      "      [X2 = y, leaf]: [e: [133], p: [19]]\n",
      "    [X4 = c, feature = 0],\n",
      "      [X0 = x, leaf]: [e: [10], p: [137]]\n",
      "    [X4 = f, feature = 10],\n",
      "      [X10 = f, leaf]: [e: [14], p: [91]]\n",
      "      [X10 = k, leaf]: [e: [134], p: [1037]]\n",
      "      [X10 = s, leaf]: [e: [22], p: [310]]\n",
      "    [X4 = l, feature = 1],\n",
      "      [X1 = f, leaf]: [e: [19], p: [1]]\n",
      "      [X1 = s, leaf]: [e: [94], p: [16]]\n",
      "      [X1 = y, leaf]: [e: [159], p: [10]]\n",
      "    [X4 = m, leaf]: [e: [2], p: [25]]\n",
      "    [X4 = n, feature = 7],\n",
      "      [X7 = b, leaf]: [e: [2197], p: [286]]\n",
      "      [X7 = n, leaf]: [e: [135], p: [58]]\n",
      "    [X4 = p, feature = 0],\n",
      "      [X0 = f, leaf]: [e: [7], p: [86]]\n",
      "      [X0 = x, leaf]: [e: [1], p: [89]]\n",
      "    [X4 = s, feature = 13],\n",
      "      [X13 = p, leaf]: [e: [12], p: [190]]\n",
      "      [X13 = w, leaf]: [e: [26], p: [190]]\n",
      "    [X4 = y, feature = 1],\n",
      "      [X1 = s, leaf]: [e: [18], p: [194]]\n",
      "      [X1 = y, leaf]: [e: [31], p: [188]]\n"
     ]
    }
   ],
   "source": [
    "#### Your code here ####\n",
    "best_depth_tree_less_than_50 = build_tree(data=X_train, impurity=calc_entropy, gain_ratio=True,min_samples_split = 50,max_depth=2)\n",
    "num_of_nodes = count_nodes(best_depth_tree_less_than_50)\n",
    "print(f\"number of nodes in the tree is:{num_of_nodes}\")\n",
    "print_tree(best_depth_tree_less_than_50)"
   ]
  },
  {
   "cell_type": "code",
   "execution_count": null,
   "metadata": {},
   "outputs": [],
   "source": []
  }
 ],
 "metadata": {
  "celltoolbar": "Create Assignment",
  "kernelspec": {
   "display_name": "Python 3",
   "language": "python",
   "name": "python3"
  },
  "language_info": {
   "codemirror_mode": {
    "name": "ipython",
    "version": 3
   },
   "file_extension": ".py",
   "mimetype": "text/x-python",
   "name": "python",
   "nbconvert_exporter": "python",
   "pygments_lexer": "ipython3",
   "version": "3.8.8"
  }
 },
 "nbformat": 4,
 "nbformat_minor": 4
}
